{
 "cells": [
  {
   "cell_type": "markdown",
   "metadata": {
    "deletable": false,
    "editable": false,
    "nbgrader": {
     "checksum": "e632f48888da59b9673ce35ab6cfc146",
     "grade": false,
     "grade_id": "cell-e8d8ad986e354ab3",
     "locked": true,
     "schema_version": 1,
     "solution": false
    },
    "slideshow": {
     "slide_type": "-"
    }
   },
   "source": [
    "**Question 1**: Calculate the variance $\\sigma^2$, skewness $\\Sigma$, and kurtosis $K$ of\n",
    "  a uniform distribution of mean $\\mu$ and width $W$.\n",
    "\n",
    "That is, for \n",
    "\n",
    "\\begin{align}\n",
    "    p_U(x) = \\begin{cases}\n",
    "            \\frac{1}{W} &\\quad\\text{if}~ \\mu-W/2 < x < \\mu+W/2 \\\\\n",
    "            0 &\\quad\\text{otherwise}\n",
    "        \\end{cases}\n",
    "\\end{align}\n",
    "\n",
    "compute\n",
    "\n",
    "\\begin{align}\n",
    "\\sigma^2 &= \\langle (x-\\mu)^2 \\rangle \\\\\n",
    "\\Sigma &= \\frac{1}{\\sigma^3} \\langle (x-\\mu)^3 \\rangle \\\\\n",
    "K &= \\frac{1}{\\sigma^4} \\langle (x-\\mu)^4 \\rangle - 3\n",
    "\\end{align}\n",
    "\n",
    "----"
   ]
  },
  {
   "cell_type": "markdown",
   "metadata": {
    "deletable": false,
    "nbgrader": {
     "checksum": "e797b185f77afe2c4f91ad804883b45f",
     "grade": true,
     "grade_id": "cell-9f283240d4d0d6d8",
     "locked": false,
     "points": 5,
     "schema_version": 1,
     "solution": true
    }
   },
   "source": [
    "\\begin{align}\n",
    "\\sigma^2 &= \\langle (x-\\mu)^2 \\rangle \\\\\n",
    "&= \\int (x-\\mu)^2 p_U(x) dx\\\\\n",
    "&= \\int_{\\mu-W/2}^{\\mu+W/2} (x-\\mu)^2 \\frac{1}{W} dx\\\\\n",
    "&= \\int_{-W/2}^{W/2} x^2 \\frac{1}{W} dx\\\\\n",
    "&= \\boxed{\\frac{W^2}{12}}\n",
    "\\end{align}\n",
    "\n",
    "\\begin{align}\n",
    "\\Sigma &= \\frac{1}{\\sigma^3} \\langle (x-\\mu)^3 \\rangle \\\\\n",
    "&= \\frac{1}{\\sigma^3} \\int (x-\\mu)^3 p_U(x) dx\\\\\n",
    "&= \\frac{1}{\\sigma^3} \\int_{\\mu-W/2}^{\\mu+W/2} (x-\\mu)^3 \\frac{1}{W} dx\\\\\n",
    "&= \\frac{1}{\\sigma^3} \\int_{-W/2}^{W/2} x^3 \\frac{1}{W} dx\\\\\n",
    "&= \\boxed{0}\n",
    "\\end{align}\n",
    "\n",
    "\\begin{align}\n",
    "K &= \\frac{1}{\\sigma^4} \\langle (x-\\mu)^4 \\rangle - 3\\\\\n",
    "&= \\left( \\frac{1}{\\sigma^4} \\int (x-\\mu)^4 p_U(x) dx \\right) - 3\\\\\n",
    "&= \\frac{1}{\\sigma^4} \\left(\\int_{\\mu-W/2}^{\\mu+W/2} (x-\\mu)^4 \\frac{1}{W} dx \\right) - 3\\\\\n",
    "&= \\frac{1}{\\sigma^4} \\left(\\int_{-W/2}^{W/2} x^4 \\frac{1}{W} dx \\right) - 3 \\\\\n",
    "&= \\frac{W^4}{80 \\sigma^4} - 3 \n",
    "~=~ \\frac{144}{80} - 3 \\\\\n",
    "&= \\boxed{-\\frac{6}{5}}\n",
    "\\end{align}"
   ]
  },
  {
   "cell_type": "markdown",
   "metadata": {
    "deletable": false,
    "editable": false,
    "nbgrader": {
     "checksum": "f311d8c372ec4d600416a41798ae7ade",
     "grade": false,
     "grade_id": "cell-582b7252bfa11bb1",
     "locked": true,
     "schema_version": 1,
     "solution": false
    }
   },
   "source": [
    "----\n",
    "\n",
    "**Question 2**: For the binomial distribution,\n",
    "  \\begin{equation}\n",
    "    p_B(x; n, p) = \\binom{n}{x}\\,p^x\\,q^{n-x} = \\frac{n!}{x!\\,(n-x)!}\\,p^x\\,(1-p)^{n-x}\n",
    "  \\end{equation}\n",
    "  for observing $x$ of $n$ items and $p$ and $q=(1-p)$ are the success\n",
    "  and failure probabilities, respectively,\n",
    "  \n",
    "  (a) show that the average number of successes $\\mu = np$.\n",
    "  \n",
    "  (b) show that the variance of the distribution $\\sigma^2 = np(1-p)$.\n",
    "  \n",
    "\n",
    "Hint: It can be helpful to use the fact that the sum of the probabilities over all possibilities is 1.\n",
    "\n",
    "----"
   ]
  },
  {
   "cell_type": "markdown",
   "metadata": {
    "deletable": false,
    "nbgrader": {
     "checksum": "3322694bd310b8ce53dc394eada31ab8",
     "grade": true,
     "grade_id": "cell-b5e9eeebff949513",
     "locked": false,
     "points": 5,
     "schema_version": 1,
     "solution": true
    }
   },
   "source": [
    "\\begin{array}\n",
    "~ \\mu &= \\langle x \\rangle\\\\ \n",
    "&= \\sum_{x=0}^n x p_B(x;n,p)\\\\\n",
    "&= \\sum_{x=1}^n \\frac{x n!}{x! (n-x)!} p^x q^{n-x}\\\\\n",
    "&= \\sum_{x=1}^n \\frac{n!}{(x-1)! (n-x)!} p^x q^{n-x}\\\\\n",
    "&= np \\sum_{x=1}^n \\frac{(n-1)!}{(x-1)! (n-x)!}p^{x-1} q^{n-x}\\\\\n",
    "&= np \\sum_{x=1}^n p_B(x-1; n-1,p)\\\\\n",
    "&= np\n",
    "\\end{array}\n",
    "\n",
    "\\begin{array}\n",
    "~ \\sigma^2 &= \\langle x^2 \\rangle - \\mu^2 \\\\\n",
    "&= \\left( \\sum_{x=0}^n x^2 p_B(x;n,p) \\right) - \\mu^2 \\\\\n",
    "&= \\left( \\sum_{x=1}^n x \\frac{x n!}{x!(n-x)!} p^x q^{n-x} \\right) - \\mu^2 \\\\\n",
    "&= \\left( np \\sum_{x=1}^n x \\frac{(n-1)!}{(x-1)!(n-x)!} p^{x-1} q^{n-x} \\right) - \\mu^2 \\\\\n",
    "&= \\left( np + np \\sum_{x=1}^n (x-1) \\frac{(n-1)!}{(x-1)!(n-x)!} p^{x-1} q^{n-x} \\right) -\\mu^2 \\\\\n",
    "&= \\left( np + np \\sum_{x=2}^n \\frac{(n-1)!}{(x-2)!(n-x)!} p^{x-1} q^{n-x} \\right) -\\mu^2 \\\\\n",
    "&= \\left( np + np ~(n-1)p \\sum_{x=2}^n \\frac{(n-2)!}{(x-2)!(n-x)!} p^{x-2} q^{n-x} \\right) -\\mu^2 \\\\\n",
    "&= \\left( np + n(n-1)p^2 \\sum_{x=2}^n p_B(x-2; n-2, p) \\right) - \\mu^2 \\\\\n",
    "&= np + n(n-1)p^2 - (np)^2\\\\\n",
    "&= np(1-p)\n",
    "\\end{array}"
   ]
  },
  {
   "cell_type": "markdown",
   "metadata": {
    "deletable": false,
    "editable": false,
    "nbgrader": {
     "checksum": "90b152631192417d9fbb95835b0bebc3",
     "grade": false,
     "grade_id": "cell-d9d167143ca44fa7",
     "locked": true,
     "schema_version": 1,
     "solution": false
    }
   },
   "source": [
    "----\n",
    "\n",
    "**Question 3**: Verify the results of question 1 by generating an array of random values and computing the various moments.\n",
    "\n",
    "(a) Write a function that returns an array of random values uniformly distributed according to the probability distribution function $p_U(x)$.  \n",
    "\n",
    "(b) Write a function that computes the mean, variance, skewness, and kurtosis of a given array of values.\n",
    "\n",
    "(c) Use these two functions to verify that for large $N$, the empirical values closely match the theoretical values you calculated.\n",
    "\n",
    "----"
   ]
  },
  {
   "cell_type": "code",
   "execution_count": 1,
   "metadata": {
    "deletable": false,
    "nbgrader": {
     "checksum": "99a3d5bbff2471a0b0b66f1c60008031",
     "grade": false,
     "grade_id": "cell-9d573457d8845a1d",
     "locked": false,
     "schema_version": 1,
     "solution": true
    }
   },
   "outputs": [],
   "source": [
    "import numpy as np\n",
    "\n",
    "# Question 3a\n",
    "def generate_p_U(size, mu, W):\n",
    "    \"\"\"Generate an array of random values distributed according to\n",
    "    \n",
    "        p_U(x) = 1/W for mu-W/2 < x < mu+W/2, and 0 otherwise.\n",
    "        \n",
    "    Returns the array.\n",
    "    \"\"\"\n",
    "    # Hint: np.random.random(size) will make an array of uniform random values between 0 and 1.\n",
    "\n",
    "    # np.random.random(size) make random values from 0 .. 1\n",
    "    # * W -> 0 .. W\n",
    "    # + mu -> mu .. mu + W\n",
    "    # - W/2 -> mu - W/2 .. mu + W/2\n",
    "    return np.random.random(size) * W + mu - W/2.\n",
    "\n",
    "# Question 3b\n",
    "def compute_statistics(x):\n",
    "    \"\"\"Compute the following statistics of the input array x:\n",
    "    \n",
    "    mean = <x>\n",
    "    variance = <(x-mean)^2>\n",
    "    skewness = <(x-mean)^3> / variance^3/2\n",
    "    kurtosis = <(x-mean)^4> / variance^2 - 3\n",
    "    \n",
    "    Returns the tuple (mean, variance, skewness, kurtosis)\n",
    "    \"\"\"\n",
    "    # Note: There are numpy and scipy commands to do these.  For this time, don't use them.\n",
    "    #       This is an exercise to do the calculation yourself.  But after this, such library\n",
    "    #       functions are fair game for you to use.\n",
    "    \n",
    "    n = x.size\n",
    "    mean = np.sum(x) / n\n",
    "    var = np.sum((x-mean)**2) / n\n",
    "    skew = np.sum((x-mean)**3) / n / var**1.5\n",
    "    kurt = np.sum((x-mean)**4) / n / var**2 - 3.\n",
    "    \n",
    "    return mean, var, skew, kurt\n",
    "\n",
    "# Question 3c\n",
    "def theoretical_statistics(mu, W):\n",
    "    \"\"\"Give the theoretical values of mean, variance, skewness and kurtosis for p_U(x), given the\n",
    "    values of mu and W.\n",
    "    \n",
    "    Returns the tuple (mean, variance, skewness, kurtosis)\n",
    "    \"\"\"\n",
    "    return mu, W**2/12., 0., -1.2"
   ]
  },
  {
   "cell_type": "code",
   "execution_count": 2,
   "metadata": {
    "deletable": false,
    "editable": false,
    "nbgrader": {
     "checksum": "921f65f637e2a9b133cce32b30b0c0d0",
     "grade": true,
     "grade_id": "cell-ab800966ba47f08f",
     "locked": true,
     "points": 5,
     "schema_version": 1,
     "solution": false
    }
   },
   "outputs": [
    {
     "name": "stdout",
     "output_type": "stream",
     "text": [
      "Empirical statistics:\n",
      "   Mean = 3.6978\n",
      "   Variance = 0.3675 = W^2/11.9984\n",
      "   Skewness = 0.0055\n",
      "   Kurtosis = -1.2023\n",
      "\n",
      "Theoretically expected statistics for large N:\n",
      "   Mean = 3.7000\n",
      "   Variance = 0.3675 = W^2/11.9984\n",
      "   Skewness = 0.0000\n",
      "   Kurtosis = -1.2000\n"
     ]
    }
   ],
   "source": [
    "size = 100000\n",
    "mu = 3.7\n",
    "W = 2.1\n",
    "\n",
    "x = generate_p_U(size, mu, W)\n",
    "mean, var, skew, kurt = compute_statistics(x)\n",
    "print('Empirical statistics:')\n",
    "print('   Mean = {:.4f}'.format(mean))\n",
    "print('   Variance = {:.4f} = W^2/{:.4f}'.format(var,W**2/var))\n",
    "print('   Skewness = {:.4f}'.format(skew))\n",
    "print('   Kurtosis = {:.4f}'.format(kurt))\n",
    "print()\n",
    "\n",
    "th_mean, th_var, th_skew, th_kurt = theoretical_statistics(mu, W)\n",
    "print('Theoretically expected statistics for large N:')\n",
    "print('   Mean = {:.4f}'.format(th_mean))\n",
    "print('   Variance = {:.4f} = W^2/{:.4f}'.format(th_var,W**2/th_var))\n",
    "print('   Skewness = {:.4f}'.format(th_skew))\n",
    "print('   Kurtosis = {:.4f}'.format(th_kurt))\n",
    "\n",
    "assert len(x) == size\n",
    "assert np.isclose(mean, th_mean, rtol=1.e-3)\n",
    "assert np.isclose(var, th_var, rtol=1.e-2)\n",
    "assert np.isclose(skew, th_skew, rtol=1.e-2, atol=1.e-2)\n",
    "assert np.isclose(kurt, th_kurt, rtol=1.e-1)\n",
    "\n",
    "# Note: There are more tests in the full auto-grading notebook, \n",
    "# so don't think you can cheat to just get those tests to pass.\n",
    "# But if you're not cheating, those should be enough to ensure your code is correct.\n"
   ]
  },
  {
   "cell_type": "markdown",
   "metadata": {
    "deletable": false,
    "editable": false,
    "nbgrader": {
     "checksum": "f869443bd7f3886d753647fe3be4fee8",
     "grade": false,
     "grade_id": "cell-77a2f019b2971bff",
     "locked": true,
     "schema_version": 1,
     "solution": false
    }
   },
   "source": [
    "---\n",
    "\n",
    "**Question 4**: Write a Python function that simulates a series of\n",
    "  coin flips.  The coin is unbiased ($p = q = 0.5$).  The function\n",
    "  should calculate the mean number of heads per trial and the variance.\n",
    "  Confirm that the variance is consistent with the expression in 2b)\n",
    "  for large values of $\\texttt{nTrials}$.\n",
    "\n",
    "---"
   ]
  },
  {
   "cell_type": "code",
   "execution_count": 3,
   "metadata": {
    "deletable": false,
    "nbgrader": {
     "checksum": "a79413d35d26b879ea7bf0ab0936ea85",
     "grade": false,
     "grade_id": "cell-9d979dfd354f160e",
     "locked": false,
     "schema_version": 1,
     "solution": true
    }
   },
   "outputs": [],
   "source": [
    "import random\n",
    "import numpy as np\n",
    "\n",
    "def sim_single_trial(nCoins, p=0.5):\n",
    "    \"\"\"Simulate a single trial of flipping nCoins coins.\n",
    "    \n",
    "    By default, the coins are fair (p=0.5), but you may specify a different probability of heads if you want.\n",
    "    \n",
    "    Returns the number of coins that turned up heads.\n",
    "    \"\"\"\n",
    "    # Hint: Whenever possible in Python, you should try to do as much math as you can using\n",
    "    #       numpy arrays, which will do the math much faster than native Python loops.\n",
    "    #       This function can be written without any for loops.\n",
    "\n",
    "    # Note: np.random has a function binomial, which basically does this function directly.\n",
    "    # It's fine if you used that.  But here we show how to compute this from uniform randoms values.\n",
    "\n",
    "    # First we make an array of nCoins random numbers from 0 to 1\n",
    "    coin_prob = np.random.random(nCoins)\n",
    "    \n",
    "    # We can calculate a boolean (True or False) value for each element in the array\n",
    "    # all at once by comparing the whole array with p.\n",
    "    # Any coin whose prob is < p will have is_head=True.\n",
    "    # Any coin whose prob is >= p will have is_head=False.\n",
    "    is_head = coin_prob < p\n",
    "    \n",
    "    # Now we just need to count how many are True.\n",
    "    # The trick here is that True is treated as 1 for sums, and False as 0.\n",
    "    n_head = np.sum(is_head)\n",
    "    \n",
    "    # This is the number we want to return.\n",
    "    return n_head\n",
    "\n",
    "def sim_flips(nCoins, nTrials, p=0.5):\n",
    "    \"\"\"Simulate nTrials of flipping coins.  Each trial is as described in simSingleTrial.\n",
    "    \n",
    "    Returns the mean and variance of the number of heads from the trials.\n",
    "    \"\"\"\n",
    "    # Make a list of the results from each trial\n",
    "    n_heads = [sim_single_trial(nCoins, p) for trial in range(nTrials)]\n",
    "    \n",
    "    # Convert to a numpy array so we can do math on it more easily.\n",
    "    n_heads = np.array(n_heads, dtype=float)\n",
    "        \n",
    "    # Calculate the mean and variance\n",
    "    return n_heads.mean(), n_heads.var()\n",
    "    \n",
    "def theoretical_flip_statistics(nCoins, p=0.5):\n",
    "    \"\"\"Give the theoretical values of mean and variance in the number of heads for a series of nCoins flips.\n",
    "    \n",
    "    By default, the coins are fair (p=0.5), but you may specify a different probability of heads if you want.\n",
    "\n",
    "    Returns the tuple (mean, variance)\n",
    "    \"\"\"\n",
    "    return nCoins*p, nCoins*p*(1-p)"
   ]
  },
  {
   "cell_type": "code",
   "execution_count": 4,
   "metadata": {
    "deletable": false,
    "editable": false,
    "nbgrader": {
     "checksum": "7f72db0b92cbb14fb5c2b5dc0a781365",
     "grade": true,
     "grade_id": "cell-202585b745a6247a",
     "locked": true,
     "points": 5,
     "schema_version": 1,
     "solution": false
    }
   },
   "outputs": [
    {
     "name": "stdout",
     "output_type": "stream",
     "text": [
      "simFlips yields mean = 9.9997, var = 5.0054\n",
      "The expected result from question 2 is mean = 10.0000, var = 5.0000\n"
     ]
    }
   ],
   "source": [
    "nCoins = 20\n",
    "nTrials = int(2.e5)\n",
    "p = 0.5  # Feel free to change this to see if you still get the right answer for other valeus of p.\n",
    "\n",
    "mean, var = sim_flips(nCoins, nTrials, p)\n",
    "th_mean, th_var = theoretical_flip_statistics(nCoins, p)\n",
    "\n",
    "print('simFlips yields mean = {:.4f}, var = {:.4f}'.format(mean, var))\n",
    "print('The expected result from question 2 is mean = {:.4f}, var = {:.4f}'.format(th_mean, th_var))\n",
    "\n",
    "assert np.isclose(mean, th_mean, rtol=2.e-3)\n",
    "assert np.isclose(var, th_var, rtol=1.e-2)\n"
   ]
  },
  {
   "cell_type": "markdown",
   "metadata": {
    "deletable": false,
    "editable": false,
    "nbgrader": {
     "checksum": "e50f35cd83501953747699ada0af2200",
     "grade": false,
     "grade_id": "cell-9232193e388cd2e2",
     "locked": true,
     "schema_version": 1,
     "solution": false
    }
   },
   "source": [
    "\n",
    "---\n",
    "\n",
    "**Bonus Question**: Consider an asymmetric gaussian given by the following:\n",
    "\\begin{equation}\n",
    "    p_{2G}(x; \\sigma_L, \\sigma_R) \\propto\n",
    "    \\begin{cases}\n",
    "    e^{-x^2/2\\sigma_L^2} & x < 0 \\\\\n",
    "    e^{-x^2/2\\sigma_R^2} & x \\ge 0 \\\\\n",
    "    \\end{cases}\n",
    "\\end{equation}\n",
    "  The distribution is continuous across $x=0$.\n",
    "  \n",
    "  (a) Write a Python sampler that draws random numbers from this distribution.\n",
    "      The sampler should take three arguments: $\\sigma_L$, $\\sigma_R$, and\n",
    "      the number of random values to return.\n",
    "  \n",
    "  (b) Draw $10^6$ random numbers from this distribution for $\\sigma_L = 0.4$\n",
    "      and $\\sigma_R = 1.2$ and use $\\texttt{matplotlib}$ to plot a histogram of the\n",
    "      values from $-2 \\le x \\le 5$.  Overplot the analytic function on the same\n",
    "      graph.\n",
    "\n",
    "---"
   ]
  },
  {
   "cell_type": "markdown",
   "metadata": {
    "deletable": false,
    "editable": false,
    "nbgrader": {
     "checksum": "f9f3e96b4e3b61a45ec90b504e5ed07c",
     "grade": false,
     "grade_id": "cell-0ce7403f82a14365",
     "locked": true,
     "schema_version": 1,
     "solution": false
    }
   },
   "source": [
    "There are a number of ways to approach this, but we'll work through how to use the cumulative probability distribution.  This solution is the most general, in that it doesn't rely on any particular insight about the specific distribution given in the problem.  Indeed, you could use this for any arbitrary pdf, even ones that are merely tabulated in a file, rather than having an analytic functional form.  \n",
    "\n",
    "The basic idea is that if a random deviate has a probability distribution function, ${\\rm pdf}(x)$, then the corresponding cumulative distribution function ${\\rm cdf}(x) = \\int_0^x {\\rm pdf}(x^\\prime)$ is uniformly distributed between 0 and 1.  Therefore, we can work backwards, drawing a uniform deviate, $c$, and then finding what value $x$ has that value of $c = {\\rm cdf}(x)$."
   ]
  },
  {
   "cell_type": "code",
   "execution_count": 5,
   "metadata": {
    "deletable": false,
    "nbgrader": {
     "checksum": "5db43d987897713af6237af9f0b69cca",
     "grade": false,
     "grade_id": "cell-cfeedcd31660d707",
     "locked": false,
     "schema_version": 1,
     "solution": true
    }
   },
   "outputs": [],
   "source": [
    "def p2gauss_pdf(sigma_L, sigma_R, x):\n",
    "    \"\"\"Return p_2G(x) for the given sigma_L, sigma_R and x values.\n",
    "    \n",
    "    Returns the array, not necessarily normalized. (i.e. sum(pdf) might not == 1)\n",
    "    \"\"\"\n",
    "    # Start with an array of the pdf.\n",
    "    pdf = np.empty_like(x)\n",
    "    # Use numpy indexing by boolean array to do positive and negative halves separately.\n",
    "    pdf[x<0] = np.exp(-x[x<0]**2 / (2. * sigma_L**2))\n",
    "    pdf[x>=0] = np.exp(-x[x>=0]**2 / (2. * sigma_R**2))\n",
    "    return pdf\n",
    "\n",
    "def compute_cdf(pdf):\n",
    "    \"\"\"Return the cumulative probability distribution for the given pdf.\n",
    "    \n",
    "    The input pdf does not need to be normalized, but the returned cdf\n",
    "    will be normalized so the value range from 0 to 1.\n",
    "    \n",
    "    Returns the array cdf, the same size as pdf\n",
    "    \"\"\"\n",
    "    # Hints:\n",
    "    # 1. The trapezoid rule is a good approximation for the running integral\n",
    "    # 2. However, using np.trapz for each index would be extremely slow.\n",
    "    # 3. Think about how to use np.cumsum to compute the same thing faster.\n",
    "    # 4. When you are done, cdf[0] should == 0\n",
    "    # 5. And cdf[-1] should == 1\n",
    "    \n",
    "    # The trapezoid rule sums up (pdf[i-1] + pdf[i])/2 for each interval\n",
    "    # For a given index n, \n",
    "    #    cdf[n] = (sum_i=1..n (pdf[i-1] + pdf[i]) / 2.\n",
    "    #           = sum_i=0..n-1 pdf[i]/2  +  sum_i=1..n pdf[i]/2\n",
    "\n",
    "    # Start with an array of zeros the same size as pdf\n",
    "    cdf = np.zeros_like(pdf)\n",
    "    \n",
    "    # This function computes the cumulative running sum of the given array.\n",
    "    # cum[n] = sum_i=0..n pdf[i]\n",
    "    cum = np.cumsum(pdf)\n",
    "    \n",
    "    # Leave cdf[0] == 0, and calculate the rest from cum.\n",
    "    cdf[1:] = (cum[1:] + cum[:-1])/2.\n",
    "    \n",
    "    # cdf[-1] is now the full integral.\n",
    "    # So divide the whole array by this to normalize.\n",
    "    cdf /= cum[-1]\n",
    "    \n",
    "    return cdf\n",
    "\n",
    "def find_x_from_cdf(cdf, x, c):\n",
    "    \"\"\"Given a cdf(x) tabulated in numpy arrays cdf and x, and an array of \n",
    "    random numbers c, where 0 < c < 1, find the x values that correspond to the \n",
    "    given c = cdf(x).\n",
    "    \n",
    "    Returns a number array of x values corresponding to the given c values.\n",
    "    \"\"\"\n",
    "    # Hints:\n",
    "    # 1. The numpy function np.searchsorted will be helpful.\n",
    "    # 2. You can get two values for cdf(x) that bracket the value you have for c.\n",
    "    # 3. Linearly interpolate between these values to get the corresponding x.\n",
    "\n",
    "    # We need to find the index k in the cdf array such that cdf[k-1] < c < cdf[k]\n",
    "    # This will let us determine what x corresponds to this given cdf value.\n",
    "    \n",
    "    # The searchsorted function finds the index for each element in the prob array \n",
    "    # such that cdf[k-1] < c < cdf[k]\n",
    "    k = np.searchsorted(cdf, c)\n",
    "    assert np.all(k > 0)         # This is only guaranteed if pdf[0] = 0\n",
    "    assert np.all(k < len(cdf))  # This is only guaranteed if pdf[-1] = 0\n",
    "    c0 = cdf[k-1]\n",
    "    c1 = cdf[k]\n",
    "    assert np.all(c0 < c)  # Assert statements like these help when developing to make sure\n",
    "    assert np.all(c <= c1) # the code is doing what you think it is doing.\n",
    "    x0 = x[k-1]\n",
    "    x1 = x[k]\n",
    "    \n",
    "    # Linearly interpolate between (c0, x0) and (c1, x1)\n",
    "    # m = (x1-x0) / (c1-c0)\n",
    "    # x = m (c - c0) + x0\n",
    "    return (x1-x0)*(c-c0)/(c1-c0) + x0\n",
    "\n",
    "\n",
    "def p2gauss(sigma_L, sigma_R, size):\n",
    "    \"\"\"Generate an array of samples drawn from the probability function \n",
    "    \n",
    "        p_2G(x) = exp(-x^2/sigma_L^2) if x < 0\n",
    "                  exp(-x^2/sigma_R^2) if x >= 0\n",
    "                  \n",
    "    Returns the array\n",
    "    \"\"\"\n",
    "    # There is nothing for you to do here.  All the work is in the above helper functions.\n",
    "    # But you should make sure you understand what is going on here, so read it through\n",
    "    # carefully.\n",
    "    \n",
    "    # Start with a tabulated array of pdf values\n",
    "    n = 2000\n",
    "    x = np.linspace(-10*sigma_L, 10*sigma_R, n)\n",
    "    pdf = p2gauss_pdf(sigma_L, sigma_R, x)\n",
    "\n",
    "    # Set the first and last value in the returned array to 0.\n",
    "    # We had x go out to +-10 sigma, so the first and last elements should\n",
    "    # already be essentially zero, but explicitly setting them to zero \n",
    "    # means the indexing we'll want to do later can never go outside the valid \n",
    "    # range for the array.\n",
    "    pdf[0] = pdf[-1] = 0\n",
    "\n",
    "    # Next, find the corresponding cumulative probability distribution\n",
    "    cdf = compute_cdf(pdf)\n",
    "    \n",
    "    # Generate an array of random numbers from 0 to 1.\n",
    "    # These are the cdf(x) values corresponding to the values x that we want.\n",
    "    c = np.random.random(size)\n",
    "    \n",
    "    # Determine what x value corresponds to each one.\n",
    "    return find_x_from_cdf(cdf, x, c)\n"
   ]
  },
  {
   "cell_type": "code",
   "execution_count": 6,
   "metadata": {
    "deletable": false,
    "editable": false,
    "nbgrader": {
     "checksum": "d9e3344a7a999cb848790bffcfc7e7a3",
     "grade": true,
     "grade_id": "cell-be4ee7ecb6bfb960",
     "locked": true,
     "points": 2,
     "schema_version": 1,
     "solution": false
    }
   },
   "outputs": [
    {
     "name": "stdout",
     "output_type": "stream",
     "text": [
      "Mean, var = 0.6385, 0.7142\n"
     ]
    }
   ],
   "source": [
    "sigma_L = 0.4\n",
    "sigma_R = 1.2\n",
    "size = int(1.e6)\n",
    "\n",
    "values = p2gauss(sigma_L, sigma_R, size)\n",
    "\n",
    "print('Mean, var = {:.4f}, {:.4f}'.format(values.mean(), values.var()))\n",
    "\n"
   ]
  },
  {
   "cell_type": "code",
   "execution_count": 7,
   "metadata": {
    "deletable": false,
    "nbgrader": {
     "checksum": "5b7747df035d2cb10cdbcfbc4325955d",
     "grade": true,
     "grade_id": "cell-657209e9b0ac9f45",
     "locked": false,
     "points": 1,
     "schema_version": 1,
     "solution": true
    }
   },
   "outputs": [
    {
     "data": {
      "image/png": "[encoded data removed]",
      "text/plain": [
       "<Figure size 1152x432 with 1 Axes>"
      ]
     },
     "metadata": {
      "needs_background": "light"
     },
     "output_type": "display_data"
    }
   ],
   "source": [
    "import matplotlib\n",
    "import matplotlib.pyplot as plt\n",
    "%matplotlib inline\n",
    "matplotlib.rcParams['figure.figsize'] = (16,6)  # This just makes the plot wider, so easier to read.\n",
    "\n",
    "# Plot a histogram of the values as a probability distribution function.\n",
    "# Also overplot the true pdf using the function p2gauss_pdf to compare.\n",
    "\n",
    "# Hints: \n",
    "# 1. Use the plt.hist function.  Read the docs for potentially useful options.\n",
    "# 2. One of the return values of plt.hist is the bin centers, which you can\n",
    "#    pass to p2gauss_pdf to get the true pdf.\n",
    "# 3. You'll need to normalize the values returned from p2gauss_pdf appropriately.\n",
    "\n",
    "n, bins, p = plt.hist(values, bins=100, density=True)\n",
    "true_pdf = p2gauss_pdf(sigma_L, sigma_R, bins)\n",
    "# Normalize\n",
    "true_pdf /= np.sum(true_pdf) * (bins[1]-bins[0])\n",
    "    \n",
    "plt.plot(bins, true_pdf, color='red')\n",
    "plt.xlabel('X')\n",
    "plt.ylabel(r'$p_{2G}(X)$')\n",
    "plt.xlim(-2,5)\n",
    "    \n",
    "plt.show()"
   ]
  }
 ],
 "metadata": {
  "kernelspec": {
   "display_name": "Python [default]",
   "language": "python",
   "name": "python3"
  },
  "language_info": {
   "codemirror_mode": {
    "name": "ipython",
    "version": 3
   },
   "file_extension": ".py",
   "mimetype": "text/x-python",
   "name": "python",
   "nbconvert_exporter": "python",
   "pygments_lexer": "ipython3",
   "version": "3.6.6"
  }
 },
 "nbformat": 4,
 "nbformat_minor": 2
}
