{
 "cells": [
  {
   "cell_type": "markdown",
   "metadata": {
    "deletable": false,
    "editable": false,
    "nbgrader": {
     "checksum": "e632f48888da59b9673ce35ab6cfc146",
     "grade": false,
     "grade_id": "cell-e8d8ad986e354ab3",
     "locked": true,
     "schema_version": 1,
     "solution": false
    },
    "slideshow": {
     "slide_type": "-"
    }
   },
   "source": [
    "**Question 1**: Calculate the variance $\\sigma^2$, skewness $\\Sigma$, and kurtosis $K$ of\n",
    "  a uniform distribution of mean $\\mu$ and width $W$.\n",
    "\n",
    "That is, for \n",
    "\n",
    "\\begin{align}\n",
    "    p_U(x) = \\begin{cases}\n",
    "            \\frac{1}{W} &\\quad\\text{if}~ \\mu-W/2 < x < \\mu+W/2 \\\\\n",
    "            0 &\\quad\\text{otherwise}\n",
    "        \\end{cases}\n",
    "\\end{align}\n",
    "\n",
    "compute\n",
    "\n",
    "\\begin{align}\n",
    "\\sigma^2 &= \\langle (x-\\mu)^2 \\rangle \\\\\n",
    "\\Sigma &= \\frac{1}{\\sigma^3} \\langle (x-\\mu)^3 \\rangle \\\\\n",
    "K &= \\frac{1}{\\sigma^4} \\langle (x-\\mu)^4 \\rangle - 3\n",
    "\\end{align}\n",
    "\n",
    "----"
   ]
  },
  {
   "cell_type": "markdown",
   "metadata": {
    "deletable": false,
    "nbgrader": {
     "checksum": "e797b185f77afe2c4f91ad804883b45f",
     "grade": true,
     "grade_id": "cell-9f283240d4d0d6d8",
     "locked": false,
     "points": 5,
     "schema_version": 1,
     "solution": true
    }
   },
   "source": [
    "Answers on paper"
   ]
  },
  {
   "cell_type": "markdown",
   "metadata": {
    "deletable": false,
    "editable": false,
    "nbgrader": {
     "checksum": "f311d8c372ec4d600416a41798ae7ade",
     "grade": false,
     "grade_id": "cell-582b7252bfa11bb1",
     "locked": true,
     "schema_version": 1,
     "solution": false
    }
   },
   "source": [
    "----\n",
    "\n",
    "**Question 2**: For the binomial distribution,\n",
    "  \\begin{equation}\n",
    "    p_B(x; n, p) = \\binom{n}{x}\\,p^x\\,q^{n-x} = \\frac{n!}{x!\\,(n-x)!}\\,p^x\\,(1-p)^{n-x}\n",
    "  \\end{equation}\n",
    "  for observing $x$ of $n$ items and $p$ and $q=(1-p)$ are the success\n",
    "  and failure probabilities, respectively,\n",
    "  \n",
    "  (a) show that the average number of successes $\\mu = np$.\n",
    "  \n",
    "  (b) show that the variance of the distribution $\\sigma^2 = np(1-p)$.\n",
    "  \n",
    "\n",
    "Hint: It can be helpful to use the fact that the sum of the probabilities over all possibilities is 1.\n",
    "\n",
    "----"
   ]
  },
  {
   "cell_type": "markdown",
   "metadata": {
    "deletable": false,
    "nbgrader": {
     "checksum": "3322694bd310b8ce53dc394eada31ab8",
     "grade": true,
     "grade_id": "cell-b5e9eeebff949513",
     "locked": false,
     "points": 5,
     "schema_version": 1,
     "solution": true
    }
   },
   "source": [
    "Answers on paper"
   ]
  },
  {
   "cell_type": "markdown",
   "metadata": {
    "deletable": false,
    "editable": false,
    "nbgrader": {
     "checksum": "90b152631192417d9fbb95835b0bebc3",
     "grade": false,
     "grade_id": "cell-d9d167143ca44fa7",
     "locked": true,
     "schema_version": 1,
     "solution": false
    }
   },
   "source": [
    "----\n",
    "\n",
    "**Question 3**: Verify the results of question 1 by generating an array of random values and computing the various moments.\n",
    "\n",
    "(a) Write a function that returns an array of random values uniformly distributed according to the probability distribution function $p_U(x)$.  \n",
    "\n",
    "(b) Write a function that computes the mean, variance, skewness, and kurtosis of a given array of values.\n",
    "\n",
    "(c) Use these two functions to verify that for large $N$, the empirical values closely match the theoretical values you calculated.\n",
    "\n",
    "----"
   ]
  },
  {
   "cell_type": "code",
   "execution_count": 1,
   "metadata": {
    "deletable": false,
    "nbgrader": {
     "checksum": "99a3d5bbff2471a0b0b66f1c60008031",
     "grade": false,
     "grade_id": "cell-9d573457d8845a1d",
     "locked": false,
     "schema_version": 1,
     "solution": true
    }
   },
   "outputs": [
    {
     "name": "stderr",
     "output_type": "stream",
     "text": [
      "C:\\Users\\JPKSP\\anaconda3\\lib\\site-packages\\numpy\\_distributor_init.py:32: UserWarning: loaded more than 1 DLL from .libs:\n",
      "C:\\Users\\JPKSP\\anaconda3\\lib\\site-packages\\numpy\\.libs\\libopenblas.IPBC74C7KURV7CB2PKT5Z5FNR3SIBV4J.gfortran-win_amd64.dll\n",
      "C:\\Users\\JPKSP\\anaconda3\\lib\\site-packages\\numpy\\.libs\\libopenblas.WCDJNK7YVMPZQ2ME2ZZHJJRJ3JIKNDB7.gfortran-win_amd64.dll\n",
      "  stacklevel=1)\n"
     ]
    }
   ],
   "source": [
    "import numpy as np\n",
    "\n",
    "# Question 3a\n",
    "def generate_p_U(size, mu, W):\n",
    "    \"\"\"Generate an array of random values distributed according to\n",
    "    \n",
    "        p_U(x) = 1/W for mu-W/2 < x < mu+W/2, and 0 otherwise.\n",
    "        \n",
    "    Returns the array.\n",
    "    \"\"\"\n",
    "    # Hint: np.random.random(size) will make an array of uniform random values between 0 and 1.\n",
    "\n",
    "    # YOUR CODE HERE\n",
    "    np.random.seed(100)\n",
    "    array = np.random.random(size)\n",
    "    distribution=[]\n",
    "    for val in array:\n",
    "        val = W*val+(mu-W/2)\n",
    "        distribution.append(val)           \n",
    "    return distribution\n",
    "                \n",
    "\n",
    "# Question 3b\n",
    "def compute_statistics(x):\n",
    "    \"\"\"Compute the following statistics of the input array x:\n",
    "    \n",
    "    mean = <x>\n",
    "    variance = <(x-mean)^2>\n",
    "    skewness = <(x-mean)^3> / variance^3/2\n",
    "    kurtosis = <(x-mean)^4> / variance^2 - 3\n",
    "    \n",
    "    Returns the tuple (mean, variance, skewness, kurtosis)\n",
    "    \"\"\"\n",
    "    # Note: There are numpy and scipy commands to do these.  For this time, don't use them.\n",
    "    #       This is an exercise to do the calculation yourself.  But after this, such library\n",
    "    #       functions are fair game for you to use.\n",
    "    \n",
    "    # YOUR CODE HERE\n",
    "    mean = sum(x)/len(x)\n",
    "    variance = sum((number-mean)**2 for number in x)/ len(x) \n",
    "    skewness = sum((number-mean)**3 for number in x)/ (len(x)*(variance)**(3/2)) \n",
    "    kurtosis = sum((number-mean)**4 for number in x)/ (len(x)*variance**2)-3\n",
    "    \n",
    "    return (mean, variance, skewness, kurtosis)\n",
    "\n",
    "# Question 3c\n",
    "def theoretical_statistics(mu, W):\n",
    "    \"\"\"Give the theoretical values of mean, variance, skewness and kurtosis for p_U(x), given the\n",
    "    values of mu and W.\n",
    "    \n",
    "    Returns the tuple (mean, variance, skewness, kurtosis)\n",
    "    \"\"\"\n",
    "    # YOUR CODE HERE\n",
    "    mean = mu\n",
    "    variance = (1/(3*W))*(3*mean**2*W+W**3/4)-mean**2\n",
    "    skewness = (1/variance**(3/2))*((mean*W**2)/4-3*mean*variance)\n",
    "    kurtosis = (1/variance**2)*((W**4)/80)-3\n",
    "    return (mean, variance, skewness, kurtosis)\n",
    "    "
   ]
  },
  {
   "cell_type": "code",
   "execution_count": 2,
   "metadata": {
    "deletable": false,
    "editable": false,
    "nbgrader": {
     "checksum": "921f65f637e2a9b133cce32b30b0c0d0",
     "grade": true,
     "grade_id": "cell-ab800966ba47f08f",
     "locked": true,
     "points": 5,
     "schema_version": 1,
     "solution": false
    }
   },
   "outputs": [
    {
     "name": "stdout",
     "output_type": "stream",
     "text": [
      "Empirical statistics:\n",
      "   Mean = 3.7002\n",
      "   Variance = 0.3682 = W^2/11.9764\n",
      "   Skewness = -0.0024\n",
      "   Kurtosis = -1.2008\n",
      "\n",
      "Theoretically expected statistics for large N:\n",
      "   Mean = 3.7000\n",
      "   Variance = 0.3675 = W^2/11.9764\n",
      "   Skewness = -0.0000\n",
      "   Kurtosis = -1.2000\n"
     ]
    }
   ],
   "source": [
    "size = 100000\n",
    "mu = 3.7\n",
    "W = 2.1\n",
    "\n",
    "x = generate_p_U(size, mu, W)\n",
    "mean, var, skew, kurt = compute_statistics(x)\n",
    "print('Empirical statistics:')\n",
    "print('   Mean = {:.4f}'.format(mean))\n",
    "print('   Variance = {:.4f} = W^2/{:.4f}'.format(var,W**2/var))\n",
    "print('   Skewness = {:.4f}'.format(skew))\n",
    "print('   Kurtosis = {:.4f}'.format(kurt))\n",
    "print()\n",
    "\n",
    "th_mean, th_var, th_skew, th_kurt = theoretical_statistics(mu, W)\n",
    "print('Theoretically expected statistics for large N:')\n",
    "print('   Mean = {:.4f}'.format(th_mean))\n",
    "print('   Variance = {:.4f} = W^2/{:.4f}'.format(th_var,W**2/var))\n",
    "print('   Skewness = {:.4f}'.format(th_skew))\n",
    "print('   Kurtosis = {:.4f}'.format(th_kurt))\n",
    "\n",
    "assert len(x) == size\n",
    "assert np.isclose(mean, th_mean, rtol=1.e-3)\n",
    "assert np.isclose(var, th_var, rtol=1.e-2)\n",
    "assert np.isclose(skew, th_skew, rtol=1.e-2, atol=1.e-2)\n",
    "assert np.isclose(kurt, th_kurt, rtol=1.e-1)\n",
    "\n",
    "# Note: There are more tests in the full auto-grading notebook, \n",
    "# so don't think you can cheat to just get those tests to pass.\n",
    "# But if you're not cheating, those should be enough to ensure your code is correct.\n"
   ]
  },
  {
   "cell_type": "markdown",
   "metadata": {
    "deletable": false,
    "editable": false,
    "nbgrader": {
     "checksum": "f869443bd7f3886d753647fe3be4fee8",
     "grade": false,
     "grade_id": "cell-77a2f019b2971bff",
     "locked": true,
     "schema_version": 1,
     "solution": false
    }
   },
   "source": [
    "---\n",
    "\n",
    "**Question 4**: Write a Python function that simulates a series of\n",
    "  coin flips.  The coin is unbiased ($p = q = 0.5$).  The function\n",
    "  should calculate the mean number of heads per trial and the variance.\n",
    "  Confirm that the variance is consistent with the expression in 2b)\n",
    "  for large values of $\\texttt{nTrials}$.\n",
    "\n",
    "---"
   ]
  },
  {
   "cell_type": "code",
   "execution_count": 2,
   "metadata": {
    "deletable": false,
    "nbgrader": {
     "checksum": "a79413d35d26b879ea7bf0ab0936ea85",
     "grade": false,
     "grade_id": "cell-9d979dfd354f160e",
     "locked": false,
     "schema_version": 1,
     "solution": true
    }
   },
   "outputs": [],
   "source": [
    "import random\n",
    "import numpy as np\n",
    "\n",
    "def sim_single_trial(nCoins, p=0.5):\n",
    "    \"\"\"Simulate a single trial of flipping nCoins coins.\n",
    "    \n",
    "    By default, the coins are fair (p=0.5), but you may specify a different probability of heads if you want.\n",
    "    \n",
    "    Returns the number of coins that turned up heads.\n",
    "    \"\"\"\n",
    "    # Hint: Whenever possible in Python, you should try to do as much math as you can using\n",
    "    #       numpy arrays, which will do the math much faster than native Python loops.\n",
    "    #       This function can be written without any for loops.\n",
    "\n",
    "    # YOUR CODE HERE\n",
    "    distribution = np.random.random(nCoins)\n",
    "    heads = distribution[distribution>=p]\n",
    "    number_of_coins = len(heads)\n",
    "    \n",
    "    return number_of_coins\n",
    "    \n",
    "\n",
    "def sim_flips(nCoins, nTrials, p=0.5):\n",
    "    \"\"\"Simulate nTrials of flipping coins.  Each trial is as described in simSingleTrial.\n",
    "    \n",
    "    Returns the mean and variance of the number of heads from the trials.\n",
    "    \"\"\"\n",
    "    # YOUR CODE HERE\n",
    "    number_of_heads = []\n",
    "    for trial in range(nTrials):\n",
    "        number_of_heads.append(sim_single_trial(nCoins,p))\n",
    "    mean = np.mean(number_of_heads)\n",
    "    variance = np.var(number_of_heads)\n",
    "    \n",
    "    return(mean,variance)\n",
    "        \n",
    "    \n",
    "def theoretical_flip_statistics(nCoins, p=0.5):\n",
    "    \"\"\"Give the theoretical values of mean and variance in the number of heads for a series of nCoins flips.\n",
    "    \n",
    "    By default, the coins are fair (p=0.5), but you may specify a different probability of heads if you want.\n",
    "\n",
    "    Returns the tuple (mean, variance)\n",
    "    \"\"\"\n",
    "    # YOUR CODE HERE\n",
    "    mean = nCoins*0.5 # theoretical mean will be half because u=np where p is 0.5 and n is nCoins\n",
    "    variance = nCoins*0.25 # variance = np(1-p)=n*0.5*(1-0.5)=n*0.5*0.5=n*0.25\n",
    "    return (mean, variance)"
   ]
  },
  {
   "cell_type": "code",
   "execution_count": 4,
   "metadata": {
    "deletable": false,
    "editable": false,
    "nbgrader": {
     "checksum": "7f72db0b92cbb14fb5c2b5dc0a781365",
     "grade": true,
     "grade_id": "cell-202585b745a6247a",
     "locked": true,
     "points": 5,
     "schema_version": 1,
     "solution": false
    }
   },
   "outputs": [
    {
     "name": "stdout",
     "output_type": "stream",
     "text": [
      "simFlips yields mean = 9.9992, var = 5.0061\n",
      "The expected result from question 2 is mean = 10.0000, var = 5.0000\n"
     ]
    }
   ],
   "source": [
    "nCoins = 20\n",
    "nTrials = int(2.e5)\n",
    "p = 0.5  # Feel free to change this to see if you still get the right answer for other valeus of p.\n",
    "\n",
    "mean, var = sim_flips(nCoins, nTrials, p)\n",
    "th_mean, th_var = theoretical_flip_statistics(nCoins, p)\n",
    "\n",
    "print('simFlips yields mean = {:.4f}, var = {:.4f}'.format(mean, var))\n",
    "print('The expected result from question 2 is mean = {:.4f}, var = {:.4f}'.format(th_mean, th_var))\n",
    "\n",
    "assert np.isclose(mean, th_mean, rtol=2.e-3)\n",
    "assert np.isclose(var, th_var, rtol=1.e-2)\n"
   ]
  },
  {
   "cell_type": "markdown",
   "metadata": {
    "deletable": false,
    "editable": false,
    "nbgrader": {
     "checksum": "e50f35cd83501953747699ada0af2200",
     "grade": false,
     "grade_id": "cell-9232193e388cd2e2",
     "locked": true,
     "schema_version": 1,
     "solution": false
    }
   },
   "source": [
    "\n",
    "---\n",
    "\n",
    "**Bonus Question**: Consider an asymmetric gaussian given by the following:\n",
    "\\begin{equation}\n",
    "    p_{2G}(x; \\sigma_L, \\sigma_R) \\propto\n",
    "    \\begin{cases}\n",
    "    e^{-x^2/2\\sigma_L^2} & x < 0 \\\\\n",
    "    e^{-x^2/2\\sigma_R^2} & x \\ge 0 \\\\\n",
    "    \\end{cases}\n",
    "\\end{equation}\n",
    "  The distribution is continuous across $x=0$.\n",
    "  \n",
    "  (a) Write a Python sampler that draws random numbers from this distribution.\n",
    "      The sampler should take three arguments: $\\sigma_L$, $\\sigma_R$, and\n",
    "      the number of random values to return.\n",
    "  \n",
    "  (b) Draw $10^6$ random numbers from this distribution for $\\sigma_L = 0.4$\n",
    "      and $\\sigma_R = 1.2$ and use $\\texttt{matplotlib}$ to plot a histogram of the\n",
    "      values from $-2 \\le x \\le 5$.  Overplot the analytic function on the same\n",
    "      graph.\n",
    "\n",
    "---"
   ]
  },
  {
   "cell_type": "markdown",
   "metadata": {
    "deletable": false,
    "editable": false,
    "nbgrader": {
     "checksum": "f9f3e96b4e3b61a45ec90b504e5ed07c",
     "grade": false,
     "grade_id": "cell-0ce7403f82a14365",
     "locked": true,
     "schema_version": 1,
     "solution": false
    }
   },
   "source": [
    "There are a number of ways to approach this, but we'll work through how to use the cumulative probability distribution.  This solution is the most general, in that it doesn't rely on any particular insight about the specific distribution given in the problem.  Indeed, you could use this for any arbitrary pdf, even ones that are merely tabulated in a file, rather than having an analytic functional form.  \n",
    "\n",
    "The basic idea is that if a random deviate has a probability distribution function, ${\\rm pdf}(x)$, then the corresponding cumulative distribution function ${\\rm cdf}(x) = \\int_0^x {\\rm pdf}(x^\\prime)$ is uniformly distributed between 0 and 1.  Therefore, we can work backwards, drawing a uniform deviate, $c$, and then finding what value $x$ has that value of $c = {\\rm cdf}(x)$."
   ]
  },
  {
   "cell_type": "code",
   "execution_count": 5,
   "metadata": {
    "deletable": false,
    "nbgrader": {
     "checksum": "5db43d987897713af6237af9f0b69cca",
     "grade": false,
     "grade_id": "cell-cfeedcd31660d707",
     "locked": false,
     "schema_version": 1,
     "solution": true
    }
   },
   "outputs": [],
   "source": [
    "def p2gauss_pdf(sigma_L, sigma_R, x):\n",
    "    \"\"\"Return p_2G(x) for the given sigma_L, sigma_R and x values.\n",
    "    \n",
    "    Returns the array, not necessarily normalized. (i.e. sum(pdf) might not == 1)\n",
    "    \"\"\"\n",
    "    # YOUR CODE HERE\n",
    "    p_2G = []\n",
    "    for val in x:\n",
    "        if val < 0:\n",
    "            prob = np.exp(-val**2/sigma_L**2)\n",
    "            p_2G.append(prob)\n",
    "        else:\n",
    "            prob = np.exp(-val**2/sigma_R**2)\n",
    "            p_2G.append(prob)\n",
    "    return p_2G\n",
    "            \n",
    "\n",
    "def compute_cdf(pdf, spacing):\n",
    "    \"\"\"Return the cumulative probability distribution for the given pdf.\n",
    "    \n",
    "    The input pdf does not need to be normalized, but the returned cdf\n",
    "    will be normalized so the value range from 0 to 1.\n",
    "    \n",
    "    Returns the array cdf, the same size as pdf\n",
    "    \"\"\"\n",
    "    # Hints:\n",
    "    # 1. The trapezoid rule is a good approximation for the running integral\n",
    "    # 2. However, using np.trapz for each index would be extremely slow.\n",
    "    # 3. Think about how to use np.cumsum to compute the same thing faster.\n",
    "    # 4. When you are done, cdf[0] should == 0\n",
    "    # 5. And cdf[-1] should == 1\n",
    "    \n",
    "    # YOUR CODE HERE\n",
    "    trapezoid_areas = []\n",
    "    for val in range(0, len(pdf)-1):\n",
    "        area = (spacing/2)*(pdf[val]+pdf[val+1])\n",
    "        trapezoid_areas.append(area)\n",
    "    cdf = np.cumsum(trapezoid_areas)\n",
    "    cdf = (cdf-min(cdf))/(max(cdf)-min(cdf))\n",
    "    return cdf\n",
    "\n",
    "def find_x_from_cdf(cdf, x, c):\n",
    "    \"\"\"Given a cdf(x) tabulated in numpy arrays cdf and x, and an array of \n",
    "    random numbers c, where 0 < c < 1, find the x values that correspond to the \n",
    "    given c = cdf(x).\n",
    "    \n",
    "    Returns a number array of x values corresponding to the given c values.\n",
    "    \"\"\"\n",
    "    # Hints:\n",
    "    # 1. The numpy function np.searchsorted will be helpful.\n",
    "    # 2. You can get two values for cdf(x) that bracket the value you have for c.\n",
    "    # 3. Linearly interpolate between these values to get the corresponding x.\n",
    "\n",
    "    # YOUR CODE HERE\n",
    "    x_array = []\n",
    "    for rand in c:\n",
    "        index = np.searchsorted(cdf,rand)\n",
    "        change_y = cdf[index]-cdf[index-1]\n",
    "        change_x = x[index] - x[index-1]\n",
    "        slope = change_y/change_x\n",
    "        x_interpolated = (rand-cdf[index])/slope+x[index]\n",
    "        x_array.append(x_interpolated)\n",
    "    return np.asarray(x_array)\n",
    "        \n",
    "\n",
    "def p2gauss(sigma_L, sigma_R, size):\n",
    "    \"\"\"Generate an array of samples drawn from the probability function \n",
    "    \n",
    "        p_2G(x) = exp(-x^2/sigma_L^2) if x < 0\n",
    "                  exp(-x^2/sigma_R^2) if x >= 0\n",
    "                  \n",
    "    Returns the array\n",
    "    \"\"\"\n",
    "    # There is nothing for you to do here.  All the work is in the above helper functions.\n",
    "    # But you should make sure you understand what is going on here, so read it through\n",
    "    # carefully.\n",
    "    \n",
    "    # Start with a tabulated array of pdf values\n",
    "    n = 2000\n",
    "    x = np.linspace(-10*sigma_L, 10*sigma_R, n)\n",
    "    spacing = x[1]-x[0]\n",
    "    pdf = p2gauss_pdf(sigma_L, sigma_R, x)\n",
    "\n",
    "    # Set the first and last value in the returned array to 0.\n",
    "    # We had x go out to +-10 sigma, so the first and last elements should\n",
    "    # already be essentially zero, but explicitly setting them to zero \n",
    "    # means the indexing we'll want to do later can never go outside the valid \n",
    "    # range for the array.\n",
    "    pdf[0] = pdf[-1] = 0\n",
    "\n",
    "    # Next, find the corresponding cumulative probability distribution\n",
    "    cdf = compute_cdf(pdf,spacing)\n",
    "    \n",
    "    # Generate an array of random numbers from 0 to 1.\n",
    "    # These are the cdf(x) values corresponding to the values x that we want.\n",
    "    c = np.random.random(size)\n",
    "    \n",
    "    # Determine what x value corresponds to each one.\n",
    "    return find_x_from_cdf(cdf, x, c)\n"
   ]
  },
  {
   "cell_type": "code",
   "execution_count": 3,
   "metadata": {
    "deletable": false,
    "editable": false,
    "nbgrader": {
     "checksum": "d9e3344a7a999cb848790bffcfc7e7a3",
     "grade": true,
     "grade_id": "cell-be4ee7ecb6bfb960",
     "locked": true,
     "points": 2,
     "schema_version": 1,
     "solution": false
    },
    "scrolled": true
   },
   "outputs": [
    {
     "ename": "NameError",
     "evalue": "name 'p2gauss' is not defined",
     "output_type": "error",
     "traceback": [
      "\u001b[1;31m---------------------------------------------------------------------------\u001b[0m",
      "\u001b[1;31mNameError\u001b[0m                                 Traceback (most recent call last)",
      "\u001b[1;32m<ipython-input-3-d2eef88b97bb>\u001b[0m in \u001b[0;36m<module>\u001b[1;34m\u001b[0m\n\u001b[0;32m      3\u001b[0m \u001b[0msize\u001b[0m \u001b[1;33m=\u001b[0m \u001b[0mint\u001b[0m\u001b[1;33m(\u001b[0m\u001b[1;36m1.e6\u001b[0m\u001b[1;33m)\u001b[0m\u001b[1;33m\u001b[0m\u001b[1;33m\u001b[0m\u001b[0m\n\u001b[0;32m      4\u001b[0m \u001b[1;33m\u001b[0m\u001b[0m\n\u001b[1;32m----> 5\u001b[1;33m \u001b[0mvalues\u001b[0m \u001b[1;33m=\u001b[0m \u001b[0mp2gauss\u001b[0m\u001b[1;33m(\u001b[0m\u001b[0msigma_L\u001b[0m\u001b[1;33m,\u001b[0m \u001b[0msigma_R\u001b[0m\u001b[1;33m,\u001b[0m \u001b[0msize\u001b[0m\u001b[1;33m)\u001b[0m\u001b[1;33m\u001b[0m\u001b[1;33m\u001b[0m\u001b[0m\n\u001b[0m\u001b[0;32m      6\u001b[0m \u001b[1;33m\u001b[0m\u001b[0m\n\u001b[0;32m      7\u001b[0m \u001b[0mprint\u001b[0m\u001b[1;33m(\u001b[0m\u001b[1;34m'Mean, var = {:.4f}, {:.4f}'\u001b[0m\u001b[1;33m.\u001b[0m\u001b[0mformat\u001b[0m\u001b[1;33m(\u001b[0m\u001b[0mvalues\u001b[0m\u001b[1;33m.\u001b[0m\u001b[0mmean\u001b[0m\u001b[1;33m(\u001b[0m\u001b[1;33m)\u001b[0m\u001b[1;33m,\u001b[0m \u001b[0mvalues\u001b[0m\u001b[1;33m.\u001b[0m\u001b[0mvar\u001b[0m\u001b[1;33m(\u001b[0m\u001b[1;33m)\u001b[0m\u001b[1;33m)\u001b[0m\u001b[1;33m)\u001b[0m\u001b[1;33m\u001b[0m\u001b[1;33m\u001b[0m\u001b[0m\n",
      "\u001b[1;31mNameError\u001b[0m: name 'p2gauss' is not defined"
     ]
    }
   ],
   "source": [
    "sigma_L = 0.4\n",
    "sigma_R = 1.2\n",
    "size = int(1.e6)\n",
    "\n",
    "values = p2gauss(sigma_L, sigma_R, size)\n",
    "\n",
    "print('Mean, var = {:.4f}, {:.4f}'.format(values.mean(), values.var()))\n",
    "\n"
   ]
  },
  {
   "cell_type": "code",
   "execution_count": 7,
   "metadata": {
    "deletable": false,
    "nbgrader": {
     "checksum": "5b7747df035d2cb10cdbcfbc4325955d",
     "grade": true,
     "grade_id": "cell-657209e9b0ac9f45",
     "locked": false,
     "points": 1,
     "schema_version": 1,
     "solution": true
    }
   },
   "outputs": [
    {
     "name": "stderr",
     "output_type": "stream",
     "text": [
      "/Library/Frameworks/Python.framework/Versions/3.7/lib/python3.7/site-packages/matplotlib/axes/_axes.py:6521: MatplotlibDeprecationWarning: \n",
      "The 'normed' kwarg was deprecated in Matplotlib 2.1 and will be removed in 3.1. Use 'density' instead.\n",
      "  alternative=\"'density'\", removal=\"3.1\")\n"
     ]
    },
    {
     "data": {
      "text/plain": [
       "[<matplotlib.lines.Line2D at 0x11328dd30>]"
      ]
     },
     "execution_count": 7,
     "metadata": {},
     "output_type": "execute_result"
    },
    {
     "data": {
      "image/png": "[encoded data removed]",
      "text/plain": [
       "<Figure size 1152x432 with 1 Axes>"
      ]
     },
     "metadata": {
      "needs_background": "light"
     },
     "output_type": "display_data"
    }
   ],
   "source": [
    "import matplotlib\n",
    "import matplotlib.pyplot as plt\n",
    "%matplotlib inline\n",
    "matplotlib.rcParams['figure.figsize'] = (16,6)  # This just makes the plot wider, so easier to read.\n",
    "\n",
    "# Plot a histogram of the values as a probability distribution function.\n",
    "# Also overplot the true pdf using the function p2gauss_pdf to compare.\n",
    "\n",
    "# Hints: \n",
    "# 1. Use the plt.hist function.  Read the docs for potentially useful options.\n",
    "# 2. One of the return values of plt.hist is the bin centers, which you can\n",
    "#    pass to p2gauss_pdf to get the true pdf.\n",
    "# 3. You'll need to normalize the values returned from p2gauss_pdf appropriately.\n",
    "\n",
    "# YOUR CODE HERE\n",
    "\n",
    "n, bins, patches = plt.hist(values,bins=1000, normed=True);\n",
    "line = p2gauss_pdf(sigma_L, sigma_R,bins)\n",
    "line = (line-min(line))/(max(line)-min(line))\n",
    "line = line*(n.max()-n.min())+n.min()\n",
    "plt.plot(bins,line)"
   ]
  }
 ],
 "metadata": {
  "kernelspec": {
   "display_name": "Python 3",
   "language": "python",
   "name": "python3"
  },
  "language_info": {
   "codemirror_mode": {
    "name": "ipython",
    "version": 3
   },
   "file_extension": ".py",
   "mimetype": "text/x-python",
   "name": "python",
   "nbconvert_exporter": "python",
   "pygments_lexer": "ipython3",
   "version": "3.7.6"
  }
 },
 "nbformat": 4,
 "nbformat_minor": 2
}
